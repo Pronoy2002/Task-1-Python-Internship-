{
 "cells": [
  {
   "cell_type": "code",
   "execution_count": 19,
   "id": "c3285a8a",
   "metadata": {},
   "outputs": [
    {
     "name": "stdout",
     "output_type": "stream",
     "text": [
      "Hello, World!\n"
     ]
    }
   ],
   "source": [
    "print(\"Hello, World!\")\n",
    "\n",
    "#Data Type\n",
    "# Integer\n",
    "x = 5\n",
    "\n",
    "# Float\n",
    "y = 3.14\n",
    "\n",
    "# String\n",
    "name = \"Pronoy\"\n",
    "\n",
    "# Boolean\n",
    "is_student = True\n"
   ]
  },
  {
   "cell_type": "code",
   "execution_count": 20,
   "id": "43c6d1d6",
   "metadata": {},
   "outputs": [
    {
     "name": "stdout",
     "output_type": "stream",
     "text": [
      "Addition: 10 + 5 = 15\n",
      "Subtraction: 10 - 5 = 5\n",
      "Multiplication: 10 * 5 = 50\n",
      "Division: 10 / 5 = 2.0\n",
      "Modulus: 10 % 5 = 0\n",
      "Exponentiation: 10 ** 5 = 100000\n"
     ]
    }
   ],
   "source": [
    "#Arithmetic Operations\n",
    "# Basic arithmetic operations\n",
    "a = 10\n",
    "b = 5\n",
    "\n",
    "# Addition\n",
    "add = a + b\n",
    "print(f\"Addition: {a} + {b} = {add}\")\n",
    "\n",
    "# Subtraction\n",
    "subtract = a - b\n",
    "print(f\"Subtraction: {a} - {b} = {subtract}\")\n",
    "\n",
    "# Multiplication\n",
    "multiply = a * b\n",
    "print(f\"Multiplication: {a} * {b} = {multiply}\")\n",
    "\n",
    "# Division\n",
    "divide = a / b\n",
    "print(f\"Division: {a} / {b} = {divide}\")\n",
    "\n",
    "# Modulus\n",
    "modulus = a % b\n",
    "print(f\"Modulus: {a} % {b} = {modulus}\")\n",
    "\n",
    "# Exponentiation\n",
    "exponent = a ** b\n",
    "print(f\"Exponentiation: {a} ** {b} = {exponent}\")\n"
   ]
  },
  {
   "cell_type": "code",
   "execution_count": 21,
   "id": "26c683a0",
   "metadata": {},
   "outputs": [
    {
     "name": "stdout",
     "output_type": "stream",
     "text": [
      "Length of the string: 14\n",
      "Concatenated string: Hello, Pronoy!\n",
      "Substring (7 to 12): Python\n",
      "Upper case: HELLO, PYTHON!\n",
      "Lower case: hello, python!\n",
      "Replaced text: Hello, World!\n",
      "Split text: ['Hello', 'Python!']\n"
     ]
    }
   ],
   "source": [
    "# String manipulation\n",
    "text = \"Hello, Python!\"\n",
    "\n",
    "# Length of the string\n",
    "length = len(text)\n",
    "print(f\"Length of the string: {length}\")\n",
    "\n",
    "# String concatenation\n",
    "greeting = \"Hello\"\n",
    "name = \"Pronoy\"\n",
    "concatenated = greeting + \", \" + name + \"!\"\n",
    "print(f\"Concatenated string: {concatenated}\")\n",
    "\n",
    "# String slicing\n",
    "substring = text[7:13]\n",
    "print(f\"Substring (7 to 12): {substring}\")\n",
    "\n",
    "# String case conversion\n",
    "upper_case = text.upper()\n",
    "print(f\"Upper case: {upper_case}\")\n",
    "\n",
    "lower_case = text.lower()\n",
    "print(f\"Lower case: {lower_case}\")\n",
    "\n",
    "# Replacing a substring\n",
    "replaced_text = text.replace(\"Python\", \"World\")\n",
    "print(f\"Replaced text: {replaced_text}\")\n",
    "\n",
    "# Splitting a string\n",
    "split_text = text.split(\", \")\n",
    "print(f\"Split text: {split_text}\")\n"
   ]
  },
  {
   "cell_type": "code",
   "execution_count": 22,
   "id": "62051cd9",
   "metadata": {},
   "outputs": [
    {
     "name": "stdout",
     "output_type": "stream",
     "text": [
      "4 is even.\n",
      "7 is odd.\n"
     ]
    }
   ],
   "source": [
    "#Function and conditional statements\n",
    "def check_even_odd(num):\n",
    "    if num % 2 == 0:\n",
    "        return f\"{num} is even.\"\n",
    "    else:\n",
    "        return f\"{num} is odd.\"\n",
    "\n",
    "\n",
    "print(check_even_odd(4))\n",
    "print(check_even_odd(7))\n"
   ]
  },
  {
   "cell_type": "code",
   "execution_count": 23,
   "id": "4348bf84",
   "metadata": {},
   "outputs": [
    {
     "name": "stdout",
     "output_type": "stream",
     "text": [
      "List:  ['apple', 'banana', 'cherry']\n",
      "Mixed List:  ['apple', 'banana', 'cherry', 1, 3.14]\n",
      "Dictionary:  {'Name': 'Pronoy', 'Age': 21, 'Branch': 'CSE'}\n",
      "Tuple:  ('apple', 'banana', 'cherry')\n",
      "Mixed Tuple:  (1, 'Hello', 3.14, True)\n"
     ]
    }
   ],
   "source": [
    "#List\n",
    "fruits = [\"apple\", \"banana\", \"cherry\"]\n",
    "print(\"List: \", fruits)\n",
    "mixed_list = [\"apple\", \"banana\", \"cherry\", 1, 3.14]\n",
    "print(\"Mixed List: \", mixed_list)\n",
    "\n",
    "\n",
    "#Dictionaries\n",
    "student = {\n",
    "    \"Name\": \"Pronoy\",\n",
    "    \"Age\": 21,\n",
    "    \"Branch\": \"CSE\"\n",
    "}\n",
    "print(\"Dictionary: \", student)\n",
    "\n",
    "\n",
    "#Tuples\n",
    "fruit_tuple = (\"apple\", \"banana\", \"cherry\")\n",
    "print(\"Tuple: \", fruit_tuple)\n",
    "# Tuple with different data types\n",
    "mixed_tuple = (1, \"Hello\", 3.14, True)\n",
    "print(\"Mixed Tuple: \", mixed_tuple)\n"
   ]
  },
  {
   "cell_type": "code",
   "execution_count": 24,
   "id": "9aa5f923",
   "metadata": {},
   "outputs": [
    {
     "name": "stdout",
     "output_type": "stream",
     "text": [
      "0\n",
      "1\n",
      "2\n",
      "3\n",
      "4\n"
     ]
    }
   ],
   "source": [
    "#For loop\n",
    "for i in range(5):\n",
    "    print(i)\n"
   ]
  },
  {
   "cell_type": "code",
   "execution_count": 25,
   "id": "18ea6f79",
   "metadata": {},
   "outputs": [
    {
     "name": "stdout",
     "output_type": "stream",
     "text": [
      "0\n",
      "1\n",
      "2\n",
      "3\n",
      "4\n"
     ]
    }
   ],
   "source": [
    "#While loop\n",
    "count = 0\n",
    "while count < 5:\n",
    "    print(count)\n",
    "    count += 1\n"
   ]
  },
  {
   "cell_type": "code",
   "execution_count": 26,
   "id": "a5f927c0",
   "metadata": {},
   "outputs": [
    {
     "name": "stdout",
     "output_type": "stream",
     "text": [
      "['apple', 'banana', 'cherry', 'orange']\n",
      "['apple', 'orange', 'banana', 'cherry']\n",
      "banana\n",
      "['apple', 'cherry']\n",
      "cherry\n",
      "['apple']\n"
     ]
    }
   ],
   "source": [
    "#List Methods\n",
    "#append\n",
    "fruits = [\"apple\", \"banana\", \"cherry\"]\n",
    "fruits.append(\"orange\")\n",
    "print(fruits)  # Output: ['apple', 'banana', 'cherry', 'orange']\n",
    "\n",
    "\n",
    "#insert\n",
    "fruits = [\"apple\", \"banana\", \"cherry\"]\n",
    "fruits.insert(1, \"orange\")\n",
    "print(fruits)  # Output: ['apple', 'orange', 'banana', 'cherry']\n",
    "\n",
    "\n",
    "#pop()\n",
    "fruits = [\"apple\", \"banana\", \"cherry\"]\n",
    "removed_fruit = fruits.pop(1)\n",
    "print(removed_fruit)  # Output: banana\n",
    "print(fruits)         # Output: ['apple', 'cherry']\n",
    "\n",
    "last_fruit = fruits.pop()\n",
    "print(last_fruit)     # Output: cherry\n",
    "print(fruits)         # Output: ['apple']\n"
   ]
  },
  {
   "cell_type": "code",
   "execution_count": null,
   "id": "fc6e29e5",
   "metadata": {},
   "outputs": [],
   "source": []
  }
 ],
 "metadata": {
  "kernelspec": {
   "display_name": "Python 3 (ipykernel)",
   "language": "python",
   "name": "python3"
  },
  "language_info": {
   "codemirror_mode": {
    "name": "ipython",
    "version": 3
   },
   "file_extension": ".py",
   "mimetype": "text/x-python",
   "name": "python",
   "nbconvert_exporter": "python",
   "pygments_lexer": "ipython3",
   "version": "3.11.4"
  }
 },
 "nbformat": 4,
 "nbformat_minor": 5
}
